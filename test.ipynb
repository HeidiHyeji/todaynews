{
 "cells": [
  {
   "cell_type": "code",
   "execution_count": 4,
   "metadata": {},
   "outputs": [
    {
     "name": "stdout",
     "output_type": "stream",
     "text": [
      "Title: \"성탄절 영화 추천해줘\"…LG유플러스, IPTV 대화 검색 기능 도입\n",
      "Content: \"크리스마스에 가족과 함께 볼 영화 추천해줘\" \"내가 쓰는 요금제는 뭐야?\" \n",
      " \n",
      "LG유플러스가 '익시' 기반의 인공지능(AI) 기술을 활용해 이처럼 IPTV와 대화하면서 원하는 정보를 확인할 수 있는 대화형 탐색 기능을 업데이트 했다고 17일 밝혔다. U+tv 이용자는 순차적으로 진행되는 업데이트를 통해 기능을 이용할 수 있다.U+tv의 대화형 탐색은 고...\n",
      "Link: https://view.asiae.co.kr/article/2024121708093984144\n",
      "----------------------------------------\n",
      "Title: “AI 시장 선점으로 경쟁제한 우려”…정부, 공정기반 마련 제도 개선\n",
      "Content: 생성형 인공지능(AI) 시장을 선점한 기업들의 경쟁제한 우려가 커짐에 따라 정부가 공정경쟁 기반 마련을 위한 제도 개선을 추진하기로 했다. 공정거래위원회는 이같은 내용을 담은 'AI와 경쟁' 정책보고서를 발간했다고 17일 밝혔다. 지난 2022년 챗GPT 등장 이후 크게 주목받는 '생성형 AI' 국내 시장을 분석한 결과물로 경쟁·소비자 쟁점을 점검해 향후 ...\n",
      "Link: https://www.ekn.kr/web/view.php?key=20241217021516184\n",
      "----------------------------------------\n",
      "Title: 공정위 “AI시장, 경쟁·소비자이익 저해 가능성”…규율방안 검토\n",
      "Content: ‘생성형 AI와 경쟁’ 정책보고서 발표 \n",
      "“구조적으로 높은 진입장벽 발생” \n",
      "\n",
      "[헤럴드경제=양영경 기자] 생성형 인공지능(AI) 시장에 시장 지배력을 가진 소수 사업자가 등장하고 이로 인해 경쟁 제한 우려가 생기고 있다는 분석이 나왔다. 경쟁 당국인 공정거래위원회는 AI 데이터 수집 등 새로운 형태의 기술과 관련된 규율 방안을 내년부터 본격적으로 검토한다는...\n",
      "Link: https://biz.heraldcorp.com/article/10017864\n",
      "----------------------------------------\n",
      "Title: 메조미디어, '대한민국 디지털광고대상' 등 8관왕 달성\n",
      "Content: 아시아투데이 연찬모 기자 = CJ ENM의 통합 디지털 마케팅 기업 메조미디어는 올해 열린 주요 광고?미디어 시상식에서 총 8개의 상을 수상했다고 17일 밝혔다. 우선 한국디지털광고협회에서 주최한 국내 최대 디지털 광고 시상식 '2024 대한민국 디지털광고대상'에서 LG유플러스의 그로쓰 리딩 AX 컴퍼니 캠페인으로 AI 크리에이터 부문 '동상'을, 신라면세...\n",
      "Link: https://www.asiatoday.co.kr/view.php?key=20241217010009814\n",
      "----------------------------------------\n",
      "Title: 삼성전자, 전경훈 사장 등 5명 美 IEEE '최고석학' 선정\n",
      "Content: 전경훈 삼성전자 DX부문 최고기술책임자(CTO) 겸 삼성리서치 연구소장 사장이 미국 전기전자공학회(IEEE) 2025년 펠로우로 선정됐다.\n",
      "\n",
      "삼성전자는 전 사장을 포함해 5명을 동시 배출했다.\n",
      "\n",
      "IEEE 펠로우는 IEEE 회원 중 최상위 0.1% 이내로 선정되는 최고 기술자 등급이다.통신·반도체 등 전기·전자공학 분야에서 10년 이상 경력을 가진 회원 중 ...\n",
      "Link: http://www.etnews.com/20241217000207\n",
      "----------------------------------------\n"
     ]
    }
   ],
   "source": [
    "import requests\n",
    "\n",
    "params = {\n",
    "  \"argument\": {\n",
    "    \"query\": \"롯데이노베이트 OR 이노베이트 OR AI AND (롯데 OR 신세계 OR 삼성 OR 한화 OR LG)\",\n",
    "    \"published_at\": {\n",
    "      \"from\": \"2024-12-17\",\n",
    "      \"until\": \"2024-12-18\"\n",
    "    },\n",
    "    \"category\": [\n",
    "      \"008000000\"\n",
    "    ],\n",
    "    \"sort\": {\n",
    "      \"date\": \"desc\"\n",
    "    },\n",
    "    \"return_from\": \"0\",\n",
    "    \"return_size\": \"10000\",\n",
    "    \"fields\": [\n",
    "      \"news_id\",\n",
    "      \"published_at\",\n",
    "      \"title\",\n",
    "      \"content\",\n",
    "      \"provider\",\n",
    "      \"byline\",\n",
    "      \"category\",\n",
    "      \"category_incident\",\n",
    "      \"provider_link_page\",\n",
    "      \"printing_page\"\n",
    "    ]\n",
    "  },\n",
    "  \"access_key\": \"newstoresample\"\n",
    "}\n",
    "headers = {'Content-type': 'application/json'}\n",
    "response = requests.post(\"https://www.newstore.or.kr/api-newstore/v1/search/newsAllList.json\", json=params, headers=headers)\n",
    "if response.status_code == 200:\n",
    "    #print(response.json())\n",
    "    result = response.json()\n",
    "    \n",
    "    # 'returnObject'가 문자열인 경우 다시 JSON으로 파싱\n",
    "    return_object = json.loads(result.get('returnObject', '{}'))\n",
    "    \n",
    "    # 'documents' 리스트 추출\n",
    "    documents = return_object.get('documents', [])\n",
    "    \n",
    "    # 각 뉴스 항목에서 title, content, provider_link_page 추출\n",
    "    for document in documents:\n",
    "        title = document.get('title', 'No Title')\n",
    "        content = document.get('content', 'No Content')\n",
    "        provider_link_page = document.get('provider_link_page', 'No Link')\n",
    "\n",
    "        # 출력하거나 각 변수에 저장\n",
    "        print(f\"Title: {title}\")\n",
    "        print(f\"Content: {content}\")\n",
    "        print(f\"Link: {provider_link_page}\")\n",
    "        print(\"-\" * 40)\n",
    "else:\n",
    "    print(response.content)\n"
   ]
  },
  {
   "cell_type": "code",
   "execution_count": 22,
   "metadata": {},
   "outputs": [
    {
     "name": "stdout",
     "output_type": "stream",
     "text": [
      "<Response [404]>\n"
     ]
    }
   ],
   "source": [
    "# library import\n",
    "import requests\n",
    "import json\n",
    "\n",
    "url = \"http://lab.bigkinds.or.kr/v2/news/newsSearchData\"\n",
    "headers = {'Content-Type': 'application/json', 'charset': 'UTF-8', 'Accept': '*/*'}\n",
    "body = dict()\n",
    "body['sentences'] = content\n",
    "response = requests.post(url, headers=headers, data=json.dumps(body, ensure_ascii=False, indent=\"\\t\").encode('utf-8'))\n",
    "#res_json = response.json()\n",
    "print(response)"
   ]
  }
 ],
 "metadata": {
  "kernelspec": {
   "display_name": "Python 3",
   "language": "python",
   "name": "python3"
  },
  "language_info": {
   "codemirror_mode": {
    "name": "ipython",
    "version": 3
   },
   "file_extension": ".py",
   "mimetype": "text/x-python",
   "name": "python",
   "nbconvert_exporter": "python",
   "pygments_lexer": "ipython3",
   "version": "3.13.1"
  }
 },
 "nbformat": 4,
 "nbformat_minor": 2
}
